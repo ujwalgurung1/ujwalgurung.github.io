{
  "nbformat": 4,
  "nbformat_minor": 2,
  "metadata": {
    "colab": {
      "name": "Social Mobility.ipynb",
      "provenance": [],
      "collapsed_sections": []
    },
    "kernelspec": {
      "name": "python3",
      "display_name": "Python 3"
    },
    "language_info": {
      "name": "python"
    }
  },
  "cells": [
    {
      "cell_type": "code",
      "execution_count": null,
      "source": [
        "import pandas as pd # library for data analysis\n",
        "import requests # library to handle requests\n",
        "from bs4 import BeautifulSoup # library to parse HTML documents\n",
        "import plotly.express as px"
      ],
      "outputs": [],
      "metadata": {
        "id": "LhheShHMFuKb"
      }
    },
    {
      "cell_type": "code",
      "execution_count": null,
      "source": [
        "# get the response in the form of html\n",
        "wikiurl=\"https://en.wikipedia.org/wiki/List_of_European_countries_by_area\"\n",
        "table_class=\"wikitable sortable jquery-tablesorter\"\n",
        "response=requests.get(wikiurl)\n",
        "# parse data from the html into a beautifulsoup object\n",
        "soup = BeautifulSoup(response.text, 'html.parser')\n",
        "indiatable=soup.find('table',{'class':\"wikitable\"})\n",
        "\n",
        "df=pd.read_html(str(indiatable))\n",
        "# convert list to dataframe\n",
        "df=pd.DataFrame(df[0])\n",
        "print(df.head())"
      ],
      "outputs": [
        {
          "output_type": "stream",
          "name": "stdout",
          "text": [
            "   Rank    State  ...                                              Notes Unnamed: 5\n",
            "0   1.0  Russia*  ...  3,995,200 km2 (1,542,600 sq mi) including the ...        NaN\n",
            "1   2.0  Ukraine  ...                                  Including Crimea.        NaN\n",
            "2   3.0  France*  ...  643,801 km2 (248,573 sq mi) when the overseas ...        NaN\n",
            "3   4.0   Spain*  ...  505,990 km2 (195,360 sq mi) when the Canary Is...        NaN\n",
            "4   5.0   Sweden  ...                                                NaN        NaN\n",
            "\n",
            "[5 rows x 6 columns]\n"
          ]
        }
      ],
      "metadata": {
        "colab": {
          "base_uri": "https://localhost:8080/"
        },
        "id": "twYPAtQ6u9Zg",
        "outputId": "88c11c1e-0343-4673-e7c5-a463bd8214e5"
      }
    },
    {
      "cell_type": "code",
      "execution_count": null,
      "source": [
        "Countries = df[['State']]\n",
        "Countries['State'] = Countries['State'].str.replace('*','')\n",
        "Countries.rename(columns={'State':'Country'}, inplace=True)\n"
      ],
      "outputs": [
        {
          "output_type": "stream",
          "name": "stderr",
          "text": [
            "/usr/local/lib/python3.7/dist-packages/ipykernel_launcher.py:2: SettingWithCopyWarning:\n",
            "\n",
            "\n",
            "A value is trying to be set on a copy of a slice from a DataFrame.\n",
            "Try using .loc[row_indexer,col_indexer] = value instead\n",
            "\n",
            "See the caveats in the documentation: https://pandas.pydata.org/pandas-docs/stable/user_guide/indexing.html#returning-a-view-versus-a-copy\n",
            "\n",
            "/usr/local/lib/python3.7/dist-packages/pandas/core/frame.py:4308: SettingWithCopyWarning:\n",
            "\n",
            "\n",
            "A value is trying to be set on a copy of a slice from a DataFrame\n",
            "\n",
            "See the caveats in the documentation: https://pandas.pydata.org/pandas-docs/stable/user_guide/indexing.html#returning-a-view-versus-a-copy\n",
            "\n"
          ]
        }
      ],
      "metadata": {
        "colab": {
          "base_uri": "https://localhost:8080/"
        },
        "id": "KWfzt7D8vG_J",
        "outputId": "c5703050-7914-4afa-9b13-7276bfba6b03"
      }
    },
    {
      "cell_type": "code",
      "execution_count": null,
      "source": [
        "# get the response in the form of html\n",
        "wikiurl=\"https://en.wikipedia.org/wiki/Global_Social_Mobility_Index\"\n",
        "table_class=\"wikitable sortable jquery-tablesorter\"\n",
        "response=requests.get(wikiurl)\n",
        "print(response.status_code)"
      ],
      "outputs": [
        {
          "output_type": "stream",
          "name": "stdout",
          "text": [
            "200\n"
          ]
        }
      ],
      "metadata": {
        "colab": {
          "base_uri": "https://localhost:8080/"
        },
        "id": "0YpyS6jKGFzM",
        "outputId": "303012af-9416-485b-b798-928e556e9ee5"
      }
    },
    {
      "cell_type": "code",
      "execution_count": null,
      "source": [
        "# parse data from the html into a beautifulsoup object\n",
        "soup = BeautifulSoup(response.text, 'html.parser')\n",
        "indiatable=soup.find('table',{'class':\"wikitable\"})"
      ],
      "outputs": [],
      "metadata": {
        "id": "9s35m-X-GMt_"
      }
    },
    {
      "cell_type": "code",
      "execution_count": null,
      "source": [
        "df=pd.read_html(str(indiatable))\n",
        "# convert list to dataframe\n",
        "df=pd.DataFrame(df[0])\n",
        "print(df.head())"
      ],
      "outputs": [
        {
          "output_type": "stream",
          "name": "stdout",
          "text": [
            "   Rank  Country  Index Score\n",
            "0     1  Denmark         85.2\n",
            "1     2   Norway         83.6\n",
            "2     3  Finland         83.6\n",
            "3     4   Sweden         83.5\n",
            "4     5  Iceland         82.7\n"
          ]
        }
      ],
      "metadata": {
        "colab": {
          "base_uri": "https://localhost:8080/"
        },
        "id": "cFm8DSvIGOAk",
        "outputId": "243dcf16-43ba-4f1a-8eeb-e3ddb5e15dde"
      }
    },
    {
      "cell_type": "code",
      "execution_count": null,
      "source": [
        "# drop the unwanted columns\n",
        "mobility = df.drop([\"Rank\"], axis=1)\n",
        "# rename columns for ease"
      ],
      "outputs": [],
      "metadata": {
        "id": "tASxExquG-n1"
      }
    },
    {
      "cell_type": "code",
      "execution_count": null,
      "source": [
        "# get the response in the form of html\n",
        "wikiurl=\"https://en.wikipedia.org/wiki/List_of_countries_by_home_ownership_rate\"\n",
        "table_class=\"wikitable sortable jquery-tablesorter\"\n",
        "response=requests.get(wikiurl)\n",
        "print(response.status_code)\n",
        "\n",
        "soup = BeautifulSoup(response.text, 'html.parser')\n",
        "indiatable=soup.find('table',{'class':\"wikitable\"})\n",
        "df=pd.read_html(str(indiatable))\n",
        "# convert list to dataframe\n",
        "df=pd.DataFrame(df[0])\n",
        "print(df.head())\n",
        "\n",
        "# drop the unwanted columns\n",
        "data = df.drop([\"Date of Information\"], axis=1)\n",
        "# rename columns for ease\n",
        "data = data.rename(columns={\"Country or Territory\": \"Country\"})\n",
        "data"
      ],
      "outputs": [
        {
          "output_type": "stream",
          "name": "stdout",
          "text": [
            "200\n",
            "  Country or Territory Home ownership rate(%) Date of Information\n",
            "0              Romania                   96.1             2019[2]\n",
            "1              Hungary                   91.3             2020[2]\n",
            "2             Slovakia                   90.9             2019[2]\n",
            "3            Lithuania                   90.3             2019[2]\n",
            "4                 Cuba                     90             2014[3]\n"
          ]
        },
        {
          "output_type": "execute_result",
          "data": {
            "text/html": [
              "\n",
              "  <div id=\"df-7343cbae-a768-48ca-88f4-572d551daca7\">\n",
              "    <div class=\"colab-df-container\">\n",
              "      <div>\n",
              "<style scoped>\n",
              "    .dataframe tbody tr th:only-of-type {\n",
              "        vertical-align: middle;\n",
              "    }\n",
              "\n",
              "    .dataframe tbody tr th {\n",
              "        vertical-align: top;\n",
              "    }\n",
              "\n",
              "    .dataframe thead th {\n",
              "        text-align: right;\n",
              "    }\n",
              "</style>\n",
              "<table border=\"1\" class=\"dataframe\">\n",
              "  <thead>\n",
              "    <tr style=\"text-align: right;\">\n",
              "      <th></th>\n",
              "      <th>Country</th>\n",
              "      <th>Home ownership rate(%)</th>\n",
              "    </tr>\n",
              "  </thead>\n",
              "  <tbody>\n",
              "    <tr>\n",
              "      <th>0</th>\n",
              "      <td>Romania</td>\n",
              "      <td>96.1</td>\n",
              "    </tr>\n",
              "    <tr>\n",
              "      <th>1</th>\n",
              "      <td>Hungary</td>\n",
              "      <td>91.3</td>\n",
              "    </tr>\n",
              "    <tr>\n",
              "      <th>2</th>\n",
              "      <td>Slovakia</td>\n",
              "      <td>90.9</td>\n",
              "    </tr>\n",
              "    <tr>\n",
              "      <th>3</th>\n",
              "      <td>Lithuania</td>\n",
              "      <td>90.3</td>\n",
              "    </tr>\n",
              "    <tr>\n",
              "      <th>4</th>\n",
              "      <td>Cuba</td>\n",
              "      <td>90</td>\n",
              "    </tr>\n",
              "    <tr>\n",
              "      <th>...</th>\n",
              "      <td>...</td>\n",
              "      <td>...</td>\n",
              "    </tr>\n",
              "    <tr>\n",
              "      <th>66</th>\n",
              "      <td>Switzerland</td>\n",
              "      <td>41.6</td>\n",
              "    </tr>\n",
              "    <tr>\n",
              "      <th>67</th>\n",
              "      <td>United Arab Emirates</td>\n",
              "      <td>28</td>\n",
              "    </tr>\n",
              "    <tr>\n",
              "      <th>68</th>\n",
              "      <td>Nigeria</td>\n",
              "      <td>25</td>\n",
              "    </tr>\n",
              "    <tr>\n",
              "      <th>69</th>\n",
              "      <td>Fiji</td>\n",
              "      <td>10</td>\n",
              "    </tr>\n",
              "    <tr>\n",
              "      <th>70</th>\n",
              "      <td>North Korea</td>\n",
              "      <td>0[a]</td>\n",
              "    </tr>\n",
              "  </tbody>\n",
              "</table>\n",
              "<p>71 rows × 2 columns</p>\n",
              "</div>\n",
              "      <button class=\"colab-df-convert\" onclick=\"convertToInteractive('df-7343cbae-a768-48ca-88f4-572d551daca7')\"\n",
              "              title=\"Convert this dataframe to an interactive table.\"\n",
              "              style=\"display:none;\">\n",
              "        \n",
              "  <svg xmlns=\"http://www.w3.org/2000/svg\" height=\"24px\"viewBox=\"0 0 24 24\"\n",
              "       width=\"24px\">\n",
              "    <path d=\"M0 0h24v24H0V0z\" fill=\"none\"/>\n",
              "    <path d=\"M18.56 5.44l.94 2.06.94-2.06 2.06-.94-2.06-.94-.94-2.06-.94 2.06-2.06.94zm-11 1L8.5 8.5l.94-2.06 2.06-.94-2.06-.94L8.5 2.5l-.94 2.06-2.06.94zm10 10l.94 2.06.94-2.06 2.06-.94-2.06-.94-.94-2.06-.94 2.06-2.06.94z\"/><path d=\"M17.41 7.96l-1.37-1.37c-.4-.4-.92-.59-1.43-.59-.52 0-1.04.2-1.43.59L10.3 9.45l-7.72 7.72c-.78.78-.78 2.05 0 2.83L4 21.41c.39.39.9.59 1.41.59.51 0 1.02-.2 1.41-.59l7.78-7.78 2.81-2.81c.8-.78.8-2.07 0-2.86zM5.41 20L4 18.59l7.72-7.72 1.47 1.35L5.41 20z\"/>\n",
              "  </svg>\n",
              "      </button>\n",
              "      \n",
              "  <style>\n",
              "    .colab-df-container {\n",
              "      display:flex;\n",
              "      flex-wrap:wrap;\n",
              "      gap: 12px;\n",
              "    }\n",
              "\n",
              "    .colab-df-convert {\n",
              "      background-color: #E8F0FE;\n",
              "      border: none;\n",
              "      border-radius: 50%;\n",
              "      cursor: pointer;\n",
              "      display: none;\n",
              "      fill: #1967D2;\n",
              "      height: 32px;\n",
              "      padding: 0 0 0 0;\n",
              "      width: 32px;\n",
              "    }\n",
              "\n",
              "    .colab-df-convert:hover {\n",
              "      background-color: #E2EBFA;\n",
              "      box-shadow: 0px 1px 2px rgba(60, 64, 67, 0.3), 0px 1px 3px 1px rgba(60, 64, 67, 0.15);\n",
              "      fill: #174EA6;\n",
              "    }\n",
              "\n",
              "    [theme=dark] .colab-df-convert {\n",
              "      background-color: #3B4455;\n",
              "      fill: #D2E3FC;\n",
              "    }\n",
              "\n",
              "    [theme=dark] .colab-df-convert:hover {\n",
              "      background-color: #434B5C;\n",
              "      box-shadow: 0px 1px 3px 1px rgba(0, 0, 0, 0.15);\n",
              "      filter: drop-shadow(0px 1px 2px rgba(0, 0, 0, 0.3));\n",
              "      fill: #FFFFFF;\n",
              "    }\n",
              "  </style>\n",
              "\n",
              "      <script>\n",
              "        const buttonEl =\n",
              "          document.querySelector('#df-7343cbae-a768-48ca-88f4-572d551daca7 button.colab-df-convert');\n",
              "        buttonEl.style.display =\n",
              "          google.colab.kernel.accessAllowed ? 'block' : 'none';\n",
              "\n",
              "        async function convertToInteractive(key) {\n",
              "          const element = document.querySelector('#df-7343cbae-a768-48ca-88f4-572d551daca7');\n",
              "          const dataTable =\n",
              "            await google.colab.kernel.invokeFunction('convertToInteractive',\n",
              "                                                     [key], {});\n",
              "          if (!dataTable) return;\n",
              "\n",
              "          const docLinkHtml = 'Like what you see? Visit the ' +\n",
              "            '<a target=\"_blank\" href=https://colab.research.google.com/notebooks/data_table.ipynb>data table notebook</a>'\n",
              "            + ' to learn more about interactive tables.';\n",
              "          element.innerHTML = '';\n",
              "          dataTable['output_type'] = 'display_data';\n",
              "          await google.colab.output.renderOutput(dataTable, element);\n",
              "          const docLink = document.createElement('div');\n",
              "          docLink.innerHTML = docLinkHtml;\n",
              "          element.appendChild(docLink);\n",
              "        }\n",
              "      </script>\n",
              "    </div>\n",
              "  </div>\n",
              "  "
            ],
            "text/plain": [
              "                 Country Home ownership rate(%)\n",
              "0                Romania                   96.1\n",
              "1                Hungary                   91.3\n",
              "2               Slovakia                   90.9\n",
              "3              Lithuania                   90.3\n",
              "4                   Cuba                     90\n",
              "..                   ...                    ...\n",
              "66           Switzerland                   41.6\n",
              "67  United Arab Emirates                     28\n",
              "68               Nigeria                     25\n",
              "69                  Fiji                     10\n",
              "70           North Korea                   0[a]\n",
              "\n",
              "[71 rows x 2 columns]"
            ]
          },
          "metadata": {},
          "execution_count": 133
        }
      ],
      "metadata": {
        "colab": {
          "base_uri": "https://localhost:8080/",
          "height": 538
        },
        "id": "x8i6ovD0Gi-T",
        "outputId": "0a58bb28-d1fc-45e4-cbb6-a7c547fd210c"
      }
    },
    {
      "cell_type": "code",
      "execution_count": null,
      "source": [
        "\n",
        "merge = pd.merge(Countries, data, on='Country', how='left')\n",
        "merged = pd.merge(merge, mobility, on='Country', how='left')"
      ],
      "outputs": [],
      "metadata": {
        "id": "A6JCmDmSHNky"
      }
    },
    {
      "cell_type": "code",
      "execution_count": null,
      "source": [
        "merged['Index Score'] = merged['Index Score'].astype(float)\n",
        "merged['Home ownership rate(%)'] = merged['Home ownership rate(%)'].astype(float)\n",
        "\n",
        "merged = merged.dropna()\n",
        "merged"
      ],
      "outputs": [
        {
          "output_type": "execute_result",
          "data": {
            "text/html": [
              "\n",
              "  <div id=\"df-26092157-4b66-43b0-a652-d8a3d9267b56\">\n",
              "    <div class=\"colab-df-container\">\n",
              "      <div>\n",
              "<style scoped>\n",
              "    .dataframe tbody tr th:only-of-type {\n",
              "        vertical-align: middle;\n",
              "    }\n",
              "\n",
              "    .dataframe tbody tr th {\n",
              "        vertical-align: top;\n",
              "    }\n",
              "\n",
              "    .dataframe thead th {\n",
              "        text-align: right;\n",
              "    }\n",
              "</style>\n",
              "<table border=\"1\" class=\"dataframe\">\n",
              "  <thead>\n",
              "    <tr style=\"text-align: right;\">\n",
              "      <th></th>\n",
              "      <th>Country</th>\n",
              "      <th>Home ownership rate(%)</th>\n",
              "      <th>Index Score</th>\n",
              "    </tr>\n",
              "  </thead>\n",
              "  <tbody>\n",
              "    <tr>\n",
              "      <th>0</th>\n",
              "      <td>Russia</td>\n",
              "      <td>89.0</td>\n",
              "      <td>64.7</td>\n",
              "    </tr>\n",
              "    <tr>\n",
              "      <th>2</th>\n",
              "      <td>France</td>\n",
              "      <td>64.1</td>\n",
              "      <td>76.7</td>\n",
              "    </tr>\n",
              "    <tr>\n",
              "      <th>3</th>\n",
              "      <td>Spain</td>\n",
              "      <td>76.2</td>\n",
              "      <td>70.0</td>\n",
              "    </tr>\n",
              "    <tr>\n",
              "      <th>4</th>\n",
              "      <td>Sweden</td>\n",
              "      <td>64.5</td>\n",
              "      <td>83.5</td>\n",
              "    </tr>\n",
              "    <tr>\n",
              "      <th>5</th>\n",
              "      <td>Norway</td>\n",
              "      <td>80.3</td>\n",
              "      <td>83.6</td>\n",
              "    </tr>\n",
              "    <tr>\n",
              "      <th>6</th>\n",
              "      <td>Germany</td>\n",
              "      <td>51.1</td>\n",
              "      <td>78.8</td>\n",
              "    </tr>\n",
              "    <tr>\n",
              "      <th>7</th>\n",
              "      <td>Finland</td>\n",
              "      <td>70.7</td>\n",
              "      <td>83.6</td>\n",
              "    </tr>\n",
              "    <tr>\n",
              "      <th>8</th>\n",
              "      <td>Poland</td>\n",
              "      <td>84.2</td>\n",
              "      <td>69.1</td>\n",
              "    </tr>\n",
              "    <tr>\n",
              "      <th>9</th>\n",
              "      <td>Italy</td>\n",
              "      <td>72.4</td>\n",
              "      <td>67.4</td>\n",
              "    </tr>\n",
              "    <tr>\n",
              "      <th>10</th>\n",
              "      <td>United Kingdom</td>\n",
              "      <td>63.0</td>\n",
              "      <td>74.4</td>\n",
              "    </tr>\n",
              "    <tr>\n",
              "      <th>11</th>\n",
              "      <td>Romania</td>\n",
              "      <td>96.1</td>\n",
              "      <td>63.1</td>\n",
              "    </tr>\n",
              "    <tr>\n",
              "      <th>14</th>\n",
              "      <td>Greece</td>\n",
              "      <td>74.6</td>\n",
              "      <td>59.8</td>\n",
              "    </tr>\n",
              "    <tr>\n",
              "      <th>15</th>\n",
              "      <td>Bulgaria</td>\n",
              "      <td>84.3</td>\n",
              "      <td>63.8</td>\n",
              "    </tr>\n",
              "    <tr>\n",
              "      <th>16</th>\n",
              "      <td>Iceland</td>\n",
              "      <td>73.6</td>\n",
              "      <td>82.7</td>\n",
              "    </tr>\n",
              "    <tr>\n",
              "      <th>17</th>\n",
              "      <td>Hungary</td>\n",
              "      <td>91.3</td>\n",
              "      <td>65.8</td>\n",
              "    </tr>\n",
              "    <tr>\n",
              "      <th>18</th>\n",
              "      <td>Portugal</td>\n",
              "      <td>73.9</td>\n",
              "      <td>72.0</td>\n",
              "    </tr>\n",
              "    <tr>\n",
              "      <th>19</th>\n",
              "      <td>Serbia</td>\n",
              "      <td>83.3</td>\n",
              "      <td>63.8</td>\n",
              "    </tr>\n",
              "    <tr>\n",
              "      <th>20</th>\n",
              "      <td>Austria</td>\n",
              "      <td>55.3</td>\n",
              "      <td>80.1</td>\n",
              "    </tr>\n",
              "    <tr>\n",
              "      <th>21</th>\n",
              "      <td>Czech Republic</td>\n",
              "      <td>78.6</td>\n",
              "      <td>74.7</td>\n",
              "    </tr>\n",
              "    <tr>\n",
              "      <th>22</th>\n",
              "      <td>Ireland</td>\n",
              "      <td>68.7</td>\n",
              "      <td>75.0</td>\n",
              "    </tr>\n",
              "    <tr>\n",
              "      <th>23</th>\n",
              "      <td>Lithuania</td>\n",
              "      <td>90.3</td>\n",
              "      <td>70.5</td>\n",
              "    </tr>\n",
              "    <tr>\n",
              "      <th>24</th>\n",
              "      <td>Latvia</td>\n",
              "      <td>80.2</td>\n",
              "      <td>69.0</td>\n",
              "    </tr>\n",
              "    <tr>\n",
              "      <th>25</th>\n",
              "      <td>Croatia</td>\n",
              "      <td>89.7</td>\n",
              "      <td>66.7</td>\n",
              "    </tr>\n",
              "    <tr>\n",
              "      <th>27</th>\n",
              "      <td>Slovakia</td>\n",
              "      <td>90.9</td>\n",
              "      <td>68.5</td>\n",
              "    </tr>\n",
              "    <tr>\n",
              "      <th>28</th>\n",
              "      <td>Estonia</td>\n",
              "      <td>81.4</td>\n",
              "      <td>73.5</td>\n",
              "    </tr>\n",
              "    <tr>\n",
              "      <th>29</th>\n",
              "      <td>Denmark</td>\n",
              "      <td>60.8</td>\n",
              "      <td>85.2</td>\n",
              "    </tr>\n",
              "    <tr>\n",
              "      <th>30</th>\n",
              "      <td>Switzerland</td>\n",
              "      <td>41.6</td>\n",
              "      <td>82.1</td>\n",
              "    </tr>\n",
              "    <tr>\n",
              "      <th>31</th>\n",
              "      <td>Netherlands</td>\n",
              "      <td>69.0</td>\n",
              "      <td>82.4</td>\n",
              "    </tr>\n",
              "    <tr>\n",
              "      <th>33</th>\n",
              "      <td>Belgium</td>\n",
              "      <td>72.3</td>\n",
              "      <td>80.1</td>\n",
              "    </tr>\n",
              "    <tr>\n",
              "      <th>36</th>\n",
              "      <td>Turkey</td>\n",
              "      <td>58.8</td>\n",
              "      <td>51.3</td>\n",
              "    </tr>\n",
              "    <tr>\n",
              "      <th>37</th>\n",
              "      <td>Slovenia</td>\n",
              "      <td>74.6</td>\n",
              "      <td>76.4</td>\n",
              "    </tr>\n",
              "    <tr>\n",
              "      <th>41</th>\n",
              "      <td>Luxembourg</td>\n",
              "      <td>70.9</td>\n",
              "      <td>79.8</td>\n",
              "    </tr>\n",
              "    <tr>\n",
              "      <th>44</th>\n",
              "      <td>Malta</td>\n",
              "      <td>79.8</td>\n",
              "      <td>75.0</td>\n",
              "    </tr>\n",
              "    <tr>\n",
              "      <th>49</th>\n",
              "      <td>Cyprus</td>\n",
              "      <td>67.9</td>\n",
              "      <td>69.4</td>\n",
              "    </tr>\n",
              "  </tbody>\n",
              "</table>\n",
              "</div>\n",
              "      <button class=\"colab-df-convert\" onclick=\"convertToInteractive('df-26092157-4b66-43b0-a652-d8a3d9267b56')\"\n",
              "              title=\"Convert this dataframe to an interactive table.\"\n",
              "              style=\"display:none;\">\n",
              "        \n",
              "  <svg xmlns=\"http://www.w3.org/2000/svg\" height=\"24px\"viewBox=\"0 0 24 24\"\n",
              "       width=\"24px\">\n",
              "    <path d=\"M0 0h24v24H0V0z\" fill=\"none\"/>\n",
              "    <path d=\"M18.56 5.44l.94 2.06.94-2.06 2.06-.94-2.06-.94-.94-2.06-.94 2.06-2.06.94zm-11 1L8.5 8.5l.94-2.06 2.06-.94-2.06-.94L8.5 2.5l-.94 2.06-2.06.94zm10 10l.94 2.06.94-2.06 2.06-.94-2.06-.94-.94-2.06-.94 2.06-2.06.94z\"/><path d=\"M17.41 7.96l-1.37-1.37c-.4-.4-.92-.59-1.43-.59-.52 0-1.04.2-1.43.59L10.3 9.45l-7.72 7.72c-.78.78-.78 2.05 0 2.83L4 21.41c.39.39.9.59 1.41.59.51 0 1.02-.2 1.41-.59l7.78-7.78 2.81-2.81c.8-.78.8-2.07 0-2.86zM5.41 20L4 18.59l7.72-7.72 1.47 1.35L5.41 20z\"/>\n",
              "  </svg>\n",
              "      </button>\n",
              "      \n",
              "  <style>\n",
              "    .colab-df-container {\n",
              "      display:flex;\n",
              "      flex-wrap:wrap;\n",
              "      gap: 12px;\n",
              "    }\n",
              "\n",
              "    .colab-df-convert {\n",
              "      background-color: #E8F0FE;\n",
              "      border: none;\n",
              "      border-radius: 50%;\n",
              "      cursor: pointer;\n",
              "      display: none;\n",
              "      fill: #1967D2;\n",
              "      height: 32px;\n",
              "      padding: 0 0 0 0;\n",
              "      width: 32px;\n",
              "    }\n",
              "\n",
              "    .colab-df-convert:hover {\n",
              "      background-color: #E2EBFA;\n",
              "      box-shadow: 0px 1px 2px rgba(60, 64, 67, 0.3), 0px 1px 3px 1px rgba(60, 64, 67, 0.15);\n",
              "      fill: #174EA6;\n",
              "    }\n",
              "\n",
              "    [theme=dark] .colab-df-convert {\n",
              "      background-color: #3B4455;\n",
              "      fill: #D2E3FC;\n",
              "    }\n",
              "\n",
              "    [theme=dark] .colab-df-convert:hover {\n",
              "      background-color: #434B5C;\n",
              "      box-shadow: 0px 1px 3px 1px rgba(0, 0, 0, 0.15);\n",
              "      filter: drop-shadow(0px 1px 2px rgba(0, 0, 0, 0.3));\n",
              "      fill: #FFFFFF;\n",
              "    }\n",
              "  </style>\n",
              "\n",
              "      <script>\n",
              "        const buttonEl =\n",
              "          document.querySelector('#df-26092157-4b66-43b0-a652-d8a3d9267b56 button.colab-df-convert');\n",
              "        buttonEl.style.display =\n",
              "          google.colab.kernel.accessAllowed ? 'block' : 'none';\n",
              "\n",
              "        async function convertToInteractive(key) {\n",
              "          const element = document.querySelector('#df-26092157-4b66-43b0-a652-d8a3d9267b56');\n",
              "          const dataTable =\n",
              "            await google.colab.kernel.invokeFunction('convertToInteractive',\n",
              "                                                     [key], {});\n",
              "          if (!dataTable) return;\n",
              "\n",
              "          const docLinkHtml = 'Like what you see? Visit the ' +\n",
              "            '<a target=\"_blank\" href=https://colab.research.google.com/notebooks/data_table.ipynb>data table notebook</a>'\n",
              "            + ' to learn more about interactive tables.';\n",
              "          element.innerHTML = '';\n",
              "          dataTable['output_type'] = 'display_data';\n",
              "          await google.colab.output.renderOutput(dataTable, element);\n",
              "          const docLink = document.createElement('div');\n",
              "          docLink.innerHTML = docLinkHtml;\n",
              "          element.appendChild(docLink);\n",
              "        }\n",
              "      </script>\n",
              "    </div>\n",
              "  </div>\n",
              "  "
            ],
            "text/plain": [
              "           Country  Home ownership rate(%)  Index Score\n",
              "0           Russia                    89.0         64.7\n",
              "2           France                    64.1         76.7\n",
              "3            Spain                    76.2         70.0\n",
              "4           Sweden                    64.5         83.5\n",
              "5           Norway                    80.3         83.6\n",
              "6          Germany                    51.1         78.8\n",
              "7          Finland                    70.7         83.6\n",
              "8           Poland                    84.2         69.1\n",
              "9            Italy                    72.4         67.4\n",
              "10  United Kingdom                    63.0         74.4\n",
              "11         Romania                    96.1         63.1\n",
              "14          Greece                    74.6         59.8\n",
              "15        Bulgaria                    84.3         63.8\n",
              "16         Iceland                    73.6         82.7\n",
              "17         Hungary                    91.3         65.8\n",
              "18        Portugal                    73.9         72.0\n",
              "19          Serbia                    83.3         63.8\n",
              "20         Austria                    55.3         80.1\n",
              "21  Czech Republic                    78.6         74.7\n",
              "22         Ireland                    68.7         75.0\n",
              "23       Lithuania                    90.3         70.5\n",
              "24          Latvia                    80.2         69.0\n",
              "25         Croatia                    89.7         66.7\n",
              "27        Slovakia                    90.9         68.5\n",
              "28         Estonia                    81.4         73.5\n",
              "29         Denmark                    60.8         85.2\n",
              "30     Switzerland                    41.6         82.1\n",
              "31     Netherlands                    69.0         82.4\n",
              "33         Belgium                    72.3         80.1\n",
              "36          Turkey                    58.8         51.3\n",
              "37        Slovenia                    74.6         76.4\n",
              "41      Luxembourg                    70.9         79.8\n",
              "44           Malta                    79.8         75.0\n",
              "49          Cyprus                    67.9         69.4"
            ]
          },
          "metadata": {},
          "execution_count": 135
        }
      ],
      "metadata": {
        "id": "cIM1iVpMHZhQ",
        "colab": {
          "base_uri": "https://localhost:8080/",
          "height": 1000
        },
        "outputId": "05b26eec-c955-41da-9627-976fdb325278"
      }
    },
    {
      "cell_type": "markdown",
      "source": [
        "Export"
      ],
      "metadata": {
        "id": "Esntd35GL16o"
      }
    },
    {
      "cell_type": "code",
      "execution_count": null,
      "source": [
        "merged.to_csv(\"EuropeOwnership&Mobility.csv\")"
      ],
      "outputs": [],
      "metadata": {
        "id": "09bCHWkJL1fB"
      }
    },
    {
      "cell_type": "markdown",
      "source": [
        "Regression"
      ],
      "metadata": {
        "id": "vhqXHUAOWrTs"
      }
    },
    {
      "cell_type": "code",
      "execution_count": null,
      "source": [
        "import matplotlib.pyplot as plt\n",
        "import seaborn as sns; sns.set()\n",
        "import numpy as np\n",
        "import pandas as pd\n",
        "from sklearn.metrics import r2_score\n",
        "from sklearn.linear_model import LinearRegression\n",
        "import plotly.express as px"
      ],
      "outputs": [],
      "metadata": {
        "id": "3_nc7x3NoA0R"
      }
    },
    {
      "cell_type": "code",
      "execution_count": null,
      "source": [
        "from sklearn.linear_model import LinearRegression\n",
        "model = LinearRegression(fit_intercept=True)\n",
        "\n",
        "model.fit(x[:, np.newaxis], y)\n",
        "xfit = np.linspace(0, 10, 1000)\n",
        "yfit = model.predict(xfit[:, np.newaxis])"
      ],
      "outputs": [
        {
          "output_type": "stream",
          "name": "stderr",
          "text": [
            "/usr/local/lib/python3.7/dist-packages/ipykernel_launcher.py:4: FutureWarning:\n",
            "\n",
            "Support for multi-dimensional indexing (e.g. `obj[:, None]`) is deprecated and will be removed in a future version.  Convert to a numpy array before indexing instead.\n",
            "\n"
          ]
        }
      ],
      "metadata": {
        "colab": {
          "base_uri": "https://localhost:8080/"
        },
        "id": "dI31spTNaTIq",
        "outputId": "7cf8095e-f895-4c9f-d3c6-ba4297190852"
      }
    },
    {
      "cell_type": "code",
      "execution_count": null,
      "source": [
        "x = merged.dropna()['Home ownership rate(%)']\n",
        "y = merged.dropna()['Index Score']\n",
        "\n",
        "poly_model = make_pipeline(PolynomialFeatures(1),\n",
        "                           LinearRegression())\n",
        "poly_model.fit(x[:, np.newaxis], y)\n",
        "xfit = np.linspace(min(x), max(x), 1000)\n",
        "yfit = poly_model.predict(xfit[:, np.newaxis])\n",
        "ax = plt.gca()\n",
        "ax.set_facecolor('white')\n",
        "\n",
        "ax.spines['bottom'].set_color('black')\n",
        "ax.spines['top'].set_color('white') \n",
        "ax.spines['right'].set_color('white')\n",
        "ax.spines['left'].set_color('black')\n",
        "\n",
        "\n",
        "plt.scatter(x, y)\n",
        "plt.plot(xfit, yfit,color='crimson');\n",
        "plt.title(\"Europe: Home ownership rate(%) and Social Mobility Score\\nR-Squared=0.24\")\n",
        "\n",
        "plt.xlabel('Home ownership rate(%)')\n",
        "plt.ylabel('Social Mobility Score')\n",
        "plt.savefig('Ownership&MobilityEurope.pdf')\n",
        "\n",
        "\n",
        "poly_model = np.poly1d(np.polyfit(x, y, 3))\n",
        "\n",
        "print(r2_score(y, poly_model(x)))\n"
      ],
      "outputs": [
        {
          "output_type": "stream",
          "name": "stderr",
          "text": [
            "/usr/local/lib/python3.7/dist-packages/ipykernel_launcher.py:6: FutureWarning:\n",
            "\n",
            "Support for multi-dimensional indexing (e.g. `obj[:, None]`) is deprecated and will be removed in a future version.  Convert to a numpy array before indexing instead.\n",
            "\n"
          ]
        },
        {
          "output_type": "stream",
          "name": "stdout",
          "text": [
            "0.23935808005860504\n"
          ]
        },
        {
          "output_type": "display_data",
          "data": {
            "image/png": "[encoded data removed]",
            "text/plain": [
              "<Figure size 432x288 with 1 Axes>"
            ]
          },
          "metadata": {}
        }
      ],
      "metadata": {
        "colab": {
          "base_uri": "https://localhost:8080/",
          "height": 421
        },
        "id": "fa6NjLxfaXXA",
        "outputId": "2d2747fc-1ebb-4031-c1a0-452c0fa1b046"
      }
    }
  ]
}