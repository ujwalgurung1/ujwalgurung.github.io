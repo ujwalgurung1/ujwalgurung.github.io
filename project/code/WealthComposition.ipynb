{
  "nbformat": 4,
  "nbformat_minor": 2,
  "metadata": {
    "colab": {
      "name": "WealthComposition.ipynb",
      "provenance": [],
      "collapsed_sections": []
    },
    "kernelspec": {
      "name": "python3",
      "display_name": "Python 3"
    },
    "language_info": {
      "name": "python"
    }
  },
  "cells": [
    {
      "cell_type": "code",
      "execution_count": 3,
      "source": [
        "import pandas as pd\n",
        "import plotly.express as px"
      ],
      "outputs": [],
      "metadata": {
        "id": "gyGTPHY_EkiN"
      }
    },
    {
      "cell_type": "code",
      "execution_count": 55,
      "source": [
        "#Call downloaded data from OECD\n",
        "df = pd.read_csv('https://raw.githubusercontent.com/ujwalgurung1/ujwalgurung1.github.io/main/project/data/sourceofwealth.csv')"
      ],
      "outputs": [],
      "metadata": {
        "id": "XCwJGqEuD0pj"
      }
    },
    {
      "cell_type": "code",
      "execution_count": null,
      "source": [
        "#Creating Trellis Charts\n",
        "fig = px.bar(df, x=\"Country\", y=\"Value\", color=\"Asset\", title=\"Wealth composition of households, % of total assets\",\n",
        "             labels={\n",
        "                 \"Value\": \"Percentage\"}\n",
        "             )\n",
        "\n",
        "fig.update_yaxes(title=None)\n",
        "fig.update_xaxes(title=None)\n",
        "\n",
        "fig.update_layout(legend=dict(\n",
        "    orientation=\"h\",\n",
        "    yanchor=\"bottom\",\n",
        "    y=-0.25,\n",
        "    xanchor=\"right\",\n",
        "    x=0.8\n",
        "))\n",
        "fig.show()"
      ],
      "outputs": [],
      "metadata": {
        "id": "MZhVM_NOF3sA"
      }
    },
    {
      "cell_type": "code",
      "execution_count": 61,
      "source": [
        "#Ready for Export \n",
        "ig.write_html(\"WealthComposition.html\")"
      ],
      "outputs": [],
      "metadata": {
        "id": "AtjYFRQZVE2X"
      }
    }
  ]
}