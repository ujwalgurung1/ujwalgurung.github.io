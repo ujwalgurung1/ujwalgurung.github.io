{
  "nbformat": 4,
  "nbformat_minor": 0,
  "metadata": {
    "colab": {
      "name": "Stacked.ipynb",
      "provenance": [],
      "collapsed_sections": []
    },
    "kernelspec": {
      "name": "python3",
      "display_name": "Python 3"
    },
    "language_info": {
      "name": "python"
    }
  },
  "cells": [
    {
      "cell_type": "code",
      "source": [
        "import pandas as pd\n",
        "import plotly.express as px"
      ],
      "metadata": {
        "id": "gyGTPHY_EkiN"
      },
      "execution_count": 3,
      "outputs": []
    },
    {
      "cell_type": "code",
      "execution_count": 55,
      "metadata": {
        "id": "XCwJGqEuD0pj"
      },
      "outputs": [],
      "source": [
        "df = pd.read_csv('https://raw.githubusercontent.com/ujwalgurung1/ujwalgurung1.github.io/main/project/data/sourceofwealth.csv')"
      ]
    },
    {
      "cell_type": "code",
      "source": [
        "fig = px.bar(df, x=\"Country\", y=\"Value\", color=\"Asset\", title=\"Wealth composition of households, % of total assets\",\n",
        "             labels={\n",
        "                 \"Value\": \"Percentage\"}\n",
        "             )\n",
        "\n",
        "fig.update_yaxes(title=None)\n",
        "fig.update_xaxes(title=None)\n",
        "\n",
        "fig.update_layout(legend=dict(\n",
        "    orientation=\"h\",\n",
        "    yanchor=\"bottom\",\n",
        "    y=-0.25,\n",
        "    xanchor=\"right\",\n",
        "    x=0.8\n",
        "))\n",
        "fig.show()"
      ],
      "metadata": {
        "id": "MZhVM_NOF3sA"
      },
      "execution_count": null,
      "outputs": []
    },
    {
      "cell_type": "code",
      "source": [
        "fig.write_html(\"stacked.html\")"
      ],
      "metadata": {
        "id": "AtjYFRQZVE2X"
      },
      "execution_count": 61,
      "outputs": []
    }
  ]
}